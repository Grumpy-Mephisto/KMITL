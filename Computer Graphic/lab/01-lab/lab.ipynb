# Import necessary libraries
import matplotlib.pyplot as plt
import numpy as np

# Import the new functions from refactored_functions.py
from refactored_functions import calculate_slope, calculate_intercept, draw_line, draw_points

# Define the main function
def main():
    # Define the coordinates of the two points
    x1, y1 = -10, 10
    x2, y2 = 10, -10

    # Calculate the slope and y-intercept of the line
    m = calculate_slope(x1, y1, x2, y2)
    c = calculate_intercept(x1, y1, m)

    # Draw the line and the points
    draw_line(m, c)
    draw_points(np.array([x1, x2]), np.array([y1, y2]))

    # Display the plot
    plt.show()

# Call the main function
if __name__ == "__main__":
    main()

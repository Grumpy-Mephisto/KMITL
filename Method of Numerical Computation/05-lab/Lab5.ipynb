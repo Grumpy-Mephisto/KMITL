{
 "cells": [
  {
   "cell_type": "code",
   "execution_count": 1,
   "metadata": {},
   "outputs": [
    {
     "data": {
      "text/plain": [
       "gaussian_elimination (generic function with 1 method)"
      ]
     },
     "execution_count": 1,
     "metadata": {},
     "output_type": "execute_result"
    }
   ],
   "source": [
    "function gaussian_elimination(A, b)\n",
    "    n = length(b)\n",
    "\n",
    "    Ab = hcat(A, b)\n",
    "\n",
    "    Ab_steps = Vector{Matrix{Float64}}()\n",
    "\n",
    "    # Forward elimination\n",
    "    for pivot_row in 1:n\n",
    "        pivot = argmax(abs.(Ab[pivot_row:end, pivot_row])) + pivot_row - 1\n",
    "        Ab[pivot_row, :], Ab[pivot, :] = Ab[pivot, :], Ab[pivot_row, :]\n",
    "\n",
    "        Ab[pivot_row, :] /= Ab[pivot_row, pivot_row]\n",
    "\n",
    "        for other_row in 1:n\n",
    "            if other_row > pivot_row\n",
    "                factor = Ab[other_row, pivot_row]\n",
    "                Ab[other_row, :] -= factor * Ab[pivot_row, :]\n",
    "            end\n",
    "        end\n",
    "\n",
    "        push!(Ab_steps, copy(Ab))\n",
    "    end\n",
    "\n",
    "    # Back substitution\n",
    "    x = zeros(Float64, n)\n",
    "\n",
    "    for i in n:-1:1\n",
    "        x[i] = Ab[i, end] / Ab[i, i]\n",
    "        for j in i-1:-1:1\n",
    "            Ab[j, end] -= Ab[j, i] * x[i]\n",
    "        end\n",
    "    end\n",
    "\n",
    "    return x, Ab_steps\n",
    "end"
   ]
  },
  {
   "cell_type": "code",
   "execution_count": 2,
   "metadata": {},
   "outputs": [
    {
     "name": "stdout",
     "output_type": "stream",
     "text": [
      "Solution: [3.0, 2.0, 1.0]\n"
     ]
    }
   ],
   "source": [
    "A = [1.0 -2.0 1.0; 2.0 1.0 -3.0; 4.0 -7.0 1.0]\n",
    "b = [0.0; 5.0; -1.0]\n",
    "\n",
    "(solution, Ab_steps) = gaussian_elimination(A, b)\n",
    "println(\"Solution: \", solution)"
   ]
  },
  {
   "cell_type": "code",
   "execution_count": 3,
   "metadata": {},
   "outputs": [
    {
     "name": "stderr",
     "output_type": "stream",
     "text": [
      "\u001b[32m\u001b[1m   Resolving\u001b[22m\u001b[39m package versions...\n",
      "\u001b[32m\u001b[1m  No Changes\u001b[22m\u001b[39m to `~/.julia/environments/v1.10/Project.toml`\n",
      "\u001b[32m\u001b[1m  No Changes\u001b[22m\u001b[39m to `~/.julia/environments/v1.10/Manifest.toml`\n"
     ]
    }
   ],
   "source": [
    "] add PrettyTables"
   ]
  },
  {
   "cell_type": "code",
   "execution_count": 4,
   "metadata": {},
   "outputs": [
    {
     "name": "stdout",
     "output_type": "stream",
     "text": [
      "┌────────┬────────┬────────┬────────┐\n",
      "│\u001b[1m Col. 1 \u001b[0m│\u001b[1m Col. 2 \u001b[0m│\u001b[1m Col. 3 \u001b[0m│\u001b[1m Col. 4 \u001b[0m│\n",
      "├────────┼────────┼────────┼────────┤\n",
      "│    1.0 │  -1.75 │   0.25 │  -0.25 │\n",
      "│    0.0 │    4.5 │   -3.5 │    5.5 │\n",
      "│    0.0 │  -0.25 │   0.75 │   0.25 │\n",
      "└────────┴────────┴────────┴────────┘\n",
      "┌────────┬────────┬───────────┬──────────┐\n",
      "│\u001b[1m Col. 1 \u001b[0m│\u001b[1m Col. 2 \u001b[0m│\u001b[1m    Col. 3 \u001b[0m│\u001b[1m   Col. 4 \u001b[0m│\n",
      "├────────┼────────┼───────────┼──────────┤\n",
      "│    1.0 │  -1.75 │      0.25 │    -0.25 │\n",
      "│    0.0 │    1.0 │ -0.777778 │  1.22222 │\n",
      "│    0.0 │    0.0 │  0.555556 │ 0.555556 │\n",
      "└────────┴────────┴───────────┴──────────┘\n",
      "┌────────┬────────┬───────────┬─────────┐\n",
      "│\u001b[1m Col. 1 \u001b[0m│\u001b[1m Col. 2 \u001b[0m│\u001b[1m    Col. 3 \u001b[0m│\u001b[1m  Col. 4 \u001b[0m│\n",
      "├────────┼────────┼───────────┼─────────┤\n",
      "│    1.0 │  -1.75 │      0.25 │   -0.25 │\n",
      "│    0.0 │    1.0 │ -0.777778 │ 1.22222 │\n",
      "│    0.0 │    0.0 │       1.0 │     1.0 │\n",
      "└────────┴────────┴───────────┴─────────┘\n"
     ]
    }
   ],
   "source": [
    "using PrettyTables\n",
    "\n",
    "for step in Ab_steps\n",
    "    pretty_table(step)\n",
    "end"
   ]
  },
  {
   "cell_type": "code",
   "execution_count": 5,
   "metadata": {},
   "outputs": [
    {
     "name": "stdout",
     "output_type": "stream",
     "text": [
      "Solution: [4.200520833333334, 3.0104166666666665, 5.427083333333333, 2.0546874999999996, -4.1484375]\n"
     ]
    }
   ],
   "source": [
    "A = [\n",
    "    2.0 1.0 -1.0 3.0 1.0;\n",
    "    -3.0 -1.0 2.0 1.0 2.0;\n",
    "    1.0 2.0 1.0 -1.0 4.0;\n",
    "    4.0 3.0 2.0 1.0 5.0;\n",
    "    2.0 -1.0 3.0 4.0 6.0\n",
    "]\n",
    "\n",
    "b = [8.0; -11.0; -3.0; 18.0; 5.0]\n",
    "\n",
    "(solution, Ab_steps) = gaussian_elimination(A, b)\n",
    "println(\"Solution: \", solution)"
   ]
  },
  {
   "cell_type": "code",
   "execution_count": 11,
   "metadata": {},
   "outputs": [
    {
     "name": "stdout",
     "output_type": "stream",
     "text": [
      "┌────────┬────────┬────────┬────────┬────────┬────────┐\n",
      "│\u001b[1m Col. 1 \u001b[0m│\u001b[1m Col. 2 \u001b[0m│\u001b[1m Col. 3 \u001b[0m│\u001b[1m Col. 4 \u001b[0m│\u001b[1m Col. 5 \u001b[0m│\u001b[1m Col. 6 \u001b[0m│\n",
      "├────────┼────────┼────────┼────────┼────────┼────────┤\n",
      "│    1.0 │   0.75 │    0.5 │   0.25 │   1.25 │    4.5 │\n",
      "│    0.0 │   1.25 │    3.5 │   1.75 │   5.75 │    2.5 │\n",
      "│    0.0 │   1.25 │    0.5 │  -1.25 │   2.75 │   -7.5 │\n",
      "│    0.0 │   -0.5 │   -2.0 │    2.5 │   -1.5 │   -1.0 │\n",
      "│    0.0 │   -2.5 │    2.0 │    3.5 │    3.5 │   -4.0 │\n",
      "└────────┴────────┴────────┴────────┴────────┴────────┘\n",
      "┌────────┬────────┬────────┬────────┬────────┬────────┐\n",
      "│\u001b[1m Col. 1 \u001b[0m│\u001b[1m Col. 2 \u001b[0m│\u001b[1m Col. 3 \u001b[0m│\u001b[1m Col. 4 \u001b[0m│\u001b[1m Col. 5 \u001b[0m│\u001b[1m Col. 6 \u001b[0m│\n",
      "├────────┼────────┼────────┼────────┼────────┼────────┤\n",
      "│    1.0 │   0.75 │    0.5 │   0.25 │   1.25 │    4.5 │\n",
      "│   -0.0 │    1.0 │   -0.8 │   -1.4 │   -1.4 │    1.6 │\n",
      "│    0.0 │    0.0 │    1.5 │    0.5 │    4.5 │   -9.5 │\n",
      "│    0.0 │    0.0 │   -2.4 │    1.8 │   -2.2 │   -0.2 │\n",
      "│    0.0 │    0.0 │    4.5 │    3.5 │    7.5 │    0.5 │\n",
      "└────────┴────────┴────────┴────────┴────────┴────────┘\n",
      "┌────────┬────────┬────────┬───────────┬─────────┬───────────┐\n",
      "│\u001b[1m Col. 1 \u001b[0m│\u001b[1m Col. 2 \u001b[0m│\u001b[1m Col. 3 \u001b[0m│\u001b[1m    Col. 4 \u001b[0m│\u001b[1m  Col. 5 \u001b[0m│\u001b[1m    Col. 6 \u001b[0m│\n",
      "├────────┼────────┼────────┼───────────┼─────────┼───────────┤\n",
      "│    1.0 │   0.75 │    0.5 │      0.25 │    1.25 │       4.5 │\n",
      "│   -0.0 │    1.0 │   -0.8 │      -1.4 │    -1.4 │       1.6 │\n",
      "│    0.0 │    0.0 │    1.0 │  0.777778 │ 1.66667 │  0.111111 │\n",
      "│    0.0 │    0.0 │    0.0 │   3.66667 │     1.8 │ 0.0666667 │\n",
      "│    0.0 │    0.0 │    0.0 │ -0.666667 │     2.0 │  -9.66667 │\n",
      "└────────┴────────┴────────┴───────────┴─────────┴───────────┘\n",
      "┌────────┬────────┬────────┬──────────┬──────────┬───────────┐\n",
      "│\u001b[1m Col. 1 \u001b[0m│\u001b[1m Col. 2 \u001b[0m│\u001b[1m Col. 3 \u001b[0m│\u001b[1m   Col. 4 \u001b[0m│\u001b[1m   Col. 5 \u001b[0m│\u001b[1m    Col. 6 \u001b[0m│\n",
      "├────────┼────────┼────────┼──────────┼──────────┼───────────┤\n",
      "│    1.0 │   0.75 │    0.5 │     0.25 │     1.25 │       4.5 │\n",
      "│   -0.0 │    1.0 │   -0.8 │     -1.4 │     -1.4 │       1.6 │\n",
      "│    0.0 │    0.0 │    1.0 │ 0.777778 │  1.66667 │  0.111111 │\n",
      "│    0.0 │    0.0 │    0.0 │      1.0 │ 0.490909 │ 0.0181818 │\n",
      "│    0.0 │    0.0 │    0.0 │      0.0 │  2.32727 │  -9.65455 │\n",
      "└────────┴────────┴────────┴──────────┴──────────┴───────────┘\n",
      "┌────────┬────────┬────────┬──────────┬──────────┬───────────┐\n",
      "│\u001b[1m Col. 1 \u001b[0m│\u001b[1m Col. 2 \u001b[0m│\u001b[1m Col. 3 \u001b[0m│\u001b[1m   Col. 4 \u001b[0m│\u001b[1m   Col. 5 \u001b[0m│\u001b[1m    Col. 6 \u001b[0m│\n",
      "├────────┼────────┼────────┼──────────┼──────────┼───────────┤\n",
      "│    1.0 │   0.75 │    0.5 │     0.25 │     1.25 │       4.5 │\n",
      "│   -0.0 │    1.0 │   -0.8 │     -1.4 │     -1.4 │       1.6 │\n",
      "│    0.0 │    0.0 │    1.0 │ 0.777778 │  1.66667 │  0.111111 │\n",
      "│    0.0 │    0.0 │    0.0 │      1.0 │ 0.490909 │ 0.0181818 │\n",
      "│    0.0 │    0.0 │    0.0 │      0.0 │      1.0 │  -4.14844 │\n",
      "└────────┴────────┴────────┴──────────┴──────────┴───────────┘\n"
     ]
    }
   ],
   "source": [
    "using PrettyTables\n",
    "\n",
    "for step in Ab_steps\n",
    "    pretty_table(step)\n",
    "end"
   ]
  },
  {
   "cell_type": "code",
   "execution_count": null,
   "metadata": {},
   "outputs": [],
   "source": []
  }
 ],
 "metadata": {
  "kernelspec": {
   "display_name": "Julia 1.10.0",
   "language": "julia",
   "name": "julia-1.10"
  },
  "language_info": {
   "file_extension": ".jl",
   "mimetype": "application/julia",
   "name": "julia",
   "version": "1.10.0"
  }
 },
 "nbformat": 4,
 "nbformat_minor": 2
}

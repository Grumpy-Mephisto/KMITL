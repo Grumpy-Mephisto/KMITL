{
 "cells": [
  {
   "cell_type": "code",
   "execution_count": 1,
   "metadata": {},
   "outputs": [
    {
     "data": {
      "text/plain": [
       "forward_diff (generic function with 1 method)"
      ]
     },
     "execution_count": 1,
     "metadata": {},
     "output_type": "execute_result"
    }
   ],
   "source": [
    "function forward_diff(f, x, dx)\n",
    "    return (f(x + dx) - f(x)) / dx\n",
    "end"
   ]
  },
  {
   "cell_type": "code",
   "execution_count": 2,
   "metadata": {},
   "outputs": [
    {
     "data": {
      "text/plain": [
       "backward_diff (generic function with 1 method)"
      ]
     },
     "execution_count": 2,
     "metadata": {},
     "output_type": "execute_result"
    }
   ],
   "source": [
    "function backward_diff(f, x, dx)\n",
    "    return (f(x) - f(x - dx)) / dx\n",
    "end"
   ]
  },
  {
   "cell_type": "code",
   "execution_count": 3,
   "metadata": {},
   "outputs": [
    {
     "data": {
      "text/plain": [
       "central_diff (generic function with 1 method)"
      ]
     },
     "execution_count": 3,
     "metadata": {},
     "output_type": "execute_result"
    }
   ],
   "source": [
    "function central_diff(f, x, dx)\n",
    "    return (f(x + dx) - f(x - dx)) / (2 * dx)\n",
    "end"
   ]
  },
  {
   "cell_type": "code",
   "execution_count": 4,
   "metadata": {},
   "outputs": [
    {
     "data": {
      "text/plain": [
       "solve_problem (generic function with 1 method)"
      ]
     },
     "execution_count": 4,
     "metadata": {},
     "output_type": "execute_result"
    }
   ],
   "source": [
    "function solve_problem(x)\n",
    "    return -0.1*(x^4)-0.15*(x^3)-0.5*(x^2)-0.25*x+1.2\n",
    "end"
   ]
  },
  {
   "cell_type": "code",
   "execution_count": 5,
   "metadata": {},
   "outputs": [
    {
     "data": {
      "text/plain": [
       "solve_problem_diff (generic function with 1 method)"
      ]
     },
     "execution_count": 5,
     "metadata": {},
     "output_type": "execute_result"
    }
   ],
   "source": [
    "function solve_problem_diff(x)\n",
    "    return -0.4*(x^3)-0.45*(x^2)-x-0.25\n",
    "end"
   ]
  },
  {
   "cell_type": "code",
   "execution_count": 6,
   "metadata": {},
   "outputs": [
    {
     "name": "stdout",
     "output_type": "stream",
     "text": [
      "Calculate the first derivative of the function using the forward difference, backward difference, and central difference approximation using x = 1.25 and h = 1.0\n"
     ]
    }
   ],
   "source": [
    "# X = 0.5\n",
    "# H = 0.5\n",
    "X = 1.25\n",
    "H = 1.00\n",
    "\n",
    "println(\"Calculate the first derivative of the function using the forward difference, backward difference, and central difference approximation using x = $X and h = $H\")"
   ]
  },
  {
   "cell_type": "code",
   "execution_count": 7,
   "metadata": {},
   "outputs": [
    {
     "data": {
      "text/plain": [
       "-5.734375"
      ]
     },
     "execution_count": 7,
     "metadata": {},
     "output_type": "execute_result"
    }
   ],
   "source": [
    "fd = forward_diff(solve_problem, X, H)"
   ]
  },
  {
   "cell_type": "code",
   "execution_count": 8,
   "metadata": {},
   "outputs": [
    {
     "data": {
      "text/plain": [
       "-3.634375"
      ]
     },
     "execution_count": 8,
     "metadata": {},
     "output_type": "execute_result"
    }
   ],
   "source": [
    "cd = central_diff(solve_problem, X, H)"
   ]
  },
  {
   "cell_type": "code",
   "execution_count": 9,
   "metadata": {},
   "outputs": [
    {
     "data": {
      "text/plain": [
       "-1.534375"
      ]
     },
     "execution_count": 9,
     "metadata": {},
     "output_type": "execute_result"
    }
   ],
   "source": [
    "bd = backward_diff(solve_problem, X, H)"
   ]
  },
  {
   "cell_type": "code",
   "execution_count": 10,
   "metadata": {},
   "outputs": [
    {
     "data": {
      "text/plain": [
       "-2.984375"
      ]
     },
     "execution_count": 10,
     "metadata": {},
     "output_type": "execute_result"
    }
   ],
   "source": [
    "exact = solve_problem_diff(X)"
   ]
  },
  {
   "cell_type": "code",
   "execution_count": 11,
   "metadata": {},
   "outputs": [
    {
     "name": "stdout",
     "output_type": "stream",
     "text": [
      "\tForward differencing\t\t Central differencing\t\t Backward differencing\n",
      "  -5.73438 (error:        2.8)\t  -3.63437 (error:       0.65)\t  -1.53438 (error:        1.4)\n"
     ]
    }
   ],
   "source": [
    "using Printf\n",
    "\n",
    "println(\"\\tForward differencing\\t\\t Central differencing\\t\\t Backward differencing\")\n",
    "@printf(\"%10g (error: %10.2g)\\t%10g (error: %10.2g)\\t%10g (error: %10.2g)\\n\", fd, abs(fd - exact), cd, abs(cd - exact), bd, abs(bd - exact))"
   ]
  },
  {
   "cell_type": "code",
   "execution_count": 12,
   "metadata": {},
   "outputs": [
    {
     "name": "stdout",
     "output_type": "stream",
     "text": [
      "\tForward differencing\t\t Central differencing\t\t Backward differencing\n",
      "  -5.73438 (error:        2.8)\t  -3.63437 (error:       0.65)\t  -1.53438 (error:        1.4)\n",
      "  -4.15938 (error:        1.2)\t  -3.14688 (error:       0.16)\t  -2.13437 (error:       0.85)\n",
      "  -3.52656 (error:       0.54)\t    -3.025 (error:      0.041)\t  -2.52344 (error:       0.46)\n",
      "  -3.24473 (error:       0.26)\t  -2.99453 (error:       0.01)\t  -2.74434 (error:       0.24)\n",
      "  -3.11194 (error:       0.13)\t  -2.98691 (error:     0.0025)\t  -2.86189 (error:       0.12)\n",
      "  -3.04751 (error:      0.063)\t  -2.98501 (error:    0.00063)\t  -2.92251 (error:      0.062)\n",
      "  -3.01578 (error:      0.031)\t  -2.98453 (error:    0.00016)\t  -2.95328 (error:      0.031)\n",
      "  -3.00004 (error:      0.016)\t  -2.98441 (error:      4e-05)\t  -2.96879 (error:      0.016)\n",
      "   -2.9922 (error:     0.0078)\t  -2.98438 (error:    9.9e-06)\t  -2.97657 (error:     0.0078)\n",
      "  -2.98828 (error:     0.0039)\t  -2.98438 (error:    2.5e-06)\t  -2.98047 (error:     0.0039)\n"
     ]
    }
   ],
   "source": [
    "println(\"\\tForward differencing\\t\\t Central differencing\\t\\t Backward differencing\")\n",
    "\n",
    "fd_errors = []\n",
    "cd_errors = []\n",
    "bd_errors = []\n",
    "dx_all = []\n",
    "dx = H\n",
    "\n",
    "for i in 1:10\n",
    "    fd = forward_diff(solve_problem, X, dx)\n",
    "    cd = central_diff(solve_problem, X, dx)\n",
    "    bd = backward_diff(solve_problem, X, dx)\n",
    "    @printf(\"%10g (error: %10.2g)\\t%10g (error: %10.2g)\\t%10g (error: %10.2g)\\n\", fd, abs(fd - exact), cd, abs(cd - exact), bd, abs(bd - exact))\n",
    "    append!(fd_errors, abs(fd - exact))\n",
    "    append!(cd_errors, abs(cd - exact))\n",
    "    append!(bd_errors, abs(bd - exact))\n",
    "    append!(dx_all, dx)\n",
    "    dx = dx / 2\n",
    "end"
   ]
  },
  {
   "cell_type": "code",
   "execution_count": 13,
   "metadata": {},
   "outputs": [
    {
     "data": {
      "image/png": "[encoded data removed]",
      "text/plain": [
       "Figure(PyObject <Figure size 640x480 with 1 Axes>)"
      ]
     },
     "metadata": {},
     "output_type": "display_data"
    }
   ],
   "source": [
    "using PyPlot\n",
    "\n",
    "n = length(dx_all)\n",
    "loglog(dx_all, fd_errors, \"b.--\", label=\"Forward differencing\")\n",
    "loglog(dx_all, cd_errors, \"k.--\", label=\"Central differencing\")\n",
    "loglog(dx_all, bd_errors, \"r.--\", label=\"Backward differencing\")\n",
    "\n",
    "ylabel(\"Error\")\n",
    "xlabel(\"Delta x\")\n",
    "title(\"Error vs. Delta x\")\n",
    "legend(loc=\"best\")\n",
    "grid(true)"
   ]
  },
  {
   "cell_type": "code",
   "execution_count": null,
   "metadata": {},
   "outputs": [],
   "source": []
  }
 ],
 "metadata": {
  "kernelspec": {
   "display_name": "Julia 1.10.0",
   "language": "julia",
   "name": "julia-1.10"
  },
  "language_info": {
   "file_extension": ".jl",
   "mimetype": "application/julia",
   "name": "julia",
   "version": "1.10.0"
  }
 },
 "nbformat": 4,
 "nbformat_minor": 2
}

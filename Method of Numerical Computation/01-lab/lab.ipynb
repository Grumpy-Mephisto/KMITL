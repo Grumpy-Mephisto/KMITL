{
 "cells": [
  {
   "cell_type": "code",
   "execution_count": 1,
   "metadata": {},
   "outputs": [
    {
     "data": {
      "text/plain": [
       "1.4166666666666665"
      ]
     },
     "execution_count": 1,
     "metadata": {},
     "output_type": "execute_result"
    }
   ],
   "source": [
    "x = 1.5\n",
    "a = 2\n",
    "x = (x + a / x) / 2"
   ]
  },
  {
   "cell_type": "code",
   "execution_count": 2,
   "metadata": {},
   "outputs": [
    {
     "data": {
      "text/plain": [
       "1.4142156862745097"
      ]
     },
     "execution_count": 2,
     "metadata": {},
     "output_type": "execute_result"
    }
   ],
   "source": [
    "x = (x + a / x) / 2"
   ]
  },
  {
   "cell_type": "code",
   "execution_count": 3,
   "metadata": {},
   "outputs": [
    {
     "data": {
      "text/plain": [
       "1.4142135623746899"
      ]
     },
     "execution_count": 3,
     "metadata": {},
     "output_type": "execute_result"
    }
   ],
   "source": [
    "x = (x + a / x) / 2"
   ]
  },
  {
   "cell_type": "code",
   "execution_count": 4,
   "metadata": {},
   "outputs": [
    {
     "data": {
      "text/plain": [
       "iterate_sqrt (generic function with 1 method)"
      ]
     },
     "execution_count": 4,
     "metadata": {},
     "output_type": "execute_result"
    }
   ],
   "source": [
    "function iterate_sqrt(a, n, x)\n",
    "    for i = 1:n\n",
    "        x = (x + a / x) / 2\n",
    "    end\n",
    "\n",
    "    return x\n",
    "end"
   ]
  },
  {
   "cell_type": "code",
   "execution_count": 5,
   "metadata": {},
   "outputs": [
    {
     "data": {
      "text/plain": [
       "-2.220446049250313e-16"
      ]
     },
     "execution_count": 5,
     "metadata": {},
     "output_type": "execute_result"
    }
   ],
   "source": [
    "iterate_sqrt(2, 10, 1) - sqrt(2)"
   ]
  },
  {
   "cell_type": "code",
   "execution_count": 6,
   "metadata": {},
   "outputs": [
    {
     "data": {
      "text/plain": [
       "1.0812053925455987"
      ]
     },
     "execution_count": 6,
     "metadata": {},
     "output_type": "execute_result"
    }
   ],
   "source": [
    "iterate_sqrt(1, 3, 5)"
   ]
  },
  {
   "cell_type": "code",
   "execution_count": 16,
   "metadata": {},
   "outputs": [
    {
     "data": {
      "text/plain": [
       "calculate_errors (generic function with 1 method)"
      ]
     },
     "execution_count": 16,
     "metadata": {},
     "output_type": "execute_result"
    }
   ],
   "source": [
    "function calculate_errors(iterate_sqrt_func, a, iterations)\n",
    "    actual_sqrt = sqrt(a)\n",
    "    errors = []\n",
    "\n",
    "    for n in iterations\n",
    "        approx_sqrt = iterate_sqrt_func(a, n, 1)\n",
    "        error = abs(approx_sqrt - actual_sqrt)\n",
    "        push!(errors, error)\n",
    "    end\n",
    "\n",
    "    return errors\n",
    "end"
   ]
  },
  {
   "cell_type": "code",
   "execution_count": 8,
   "metadata": {},
   "outputs": [
    {
     "data": {
      "text/plain": [
       "3-element Vector{Any}:\n",
       " 0.08578643762690485\n",
       " 2.123901414519125e-6\n",
       " 2.220446049250313e-16"
      ]
     },
     "execution_count": 8,
     "metadata": {},
     "output_type": "execute_result"
    }
   ],
   "source": [
    "iterations = [1, 3, 5]\n",
    "\n",
    "errors = calculate_errors(iterate_sqrt, 2, iterations)"
   ]
  },
  {
   "cell_type": "code",
   "execution_count": 9,
   "metadata": {},
   "outputs": [
    {
     "name": "stdout",
     "output_type": "stream",
     "text": [
      "Errors after 1, 3, and 5 iterations: Any[0.08578643762690485, 2.123901414519125e-6, 2.220446049250313e-16]\n"
     ]
    }
   ],
   "source": [
    "println(\"Errors after 1, 3, and 5 iterations: \", errors)"
   ]
  },
  {
   "cell_type": "code",
   "execution_count": 19,
   "metadata": {},
   "outputs": [
    {
     "name": "stdout",
     "output_type": "stream",
     "text": [
      "\u001b[91m\u001b[1mTest Failed\u001b[22m\u001b[39m at \u001b[39m\u001b[1mIn[19]:13\u001b[22m\n",
      "  Expression: calculate_errors(iterate_sqrt, 4, [1, 3, 5]) ≈ [0.4641016151377544, 0.0001524157902751496, 0.0]\n",
      "   Evaluated: Any[0.5, 0.0006097560975608651, 2.220446049250313e-15] ≈ [0.4641016151377544, 0.0001524157902751496, 0.0]\n",
      "\n"
     ]
    },
    {
     "ename": "LoadError",
     "evalue": "\u001b[91mThere was an error during testing\u001b[39m",
     "output_type": "error",
     "traceback": [
      "\u001b[91mThere was an error during testing\u001b[39m",
      "",
      "Stacktrace:",
      " [1] record(ts::Test.FallbackTestSet, t::Union{Test.Error, Test.Fail})",
      "   @ Test ~/.julia/share/julia/stdlib/v1.9/Test/src/Test.jl:960",
      " [2] do_test(result::Test.ExecutionResult, orig_expr::Any)",
      "   @ Test ~/.julia/share/julia/stdlib/v1.9/Test/src/Test.jl:670",
      " [3] top-level scope",
      "   @ ~/.julia/share/julia/stdlib/v1.9/Test/src/Test.jl:478"
     ]
    }
   ],
   "source": [
    "# Import Test module\n",
    "using Test\n",
    "\n",
    "# Test iterate_sqrt function\n",
    "@test iterate_sqrt(2, 10, 1) ≈ sqrt(2)\n",
    "@test iterate_sqrt(3, 10, 1) ≈ sqrt(3)\n",
    "@test iterate_sqrt(4, 10, 1) ≈ sqrt(4)\n",
    "@test iterate_sqrt(5, 10, 1) ≈ sqrt(5)\n",
    "\n",
    "# Test calculate_errors function\n",
    "@test calculate_errors(iterate_sqrt, 2, [1, 3, 5]) ≈ [0.08578643762690485, 2.123901414519125e-6, 2.220446049250313e-16]\n",
    "@test calculate_errors(iterate_sqrt, 3, [1, 3, 5]) ≈ [0.2679491924311228, 9.204957398001312e-5, 0.0]\n",
    "@test calculate_errors(iterate_sqrt, 4, [1, 3, 5]) ≈ [0.5, 0.0006097560975608651, 2.220446049250313e-15]"
   ]
  }
 ],
 "metadata": {
  "kernelspec": {
   "display_name": "Julia 1.9.4",
   "language": "julia",
   "name": "julia-1.9"
  },
  "language_info": {
   "file_extension": ".jl",
   "mimetype": "application/julia",
   "name": "julia",
   "version": "1.9.4"
  }
 },
 "nbformat": 4,
 "nbformat_minor": 2
}

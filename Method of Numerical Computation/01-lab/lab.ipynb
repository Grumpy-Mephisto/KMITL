{
 "cells": [
  {
   "cell_type": "code",
   "execution_count": 1,
   "metadata": {},
   "outputs": [
    {
     "data": {
      "text/plain": [
       "1.4166666666666665"
      ]
     },
     "execution_count": 1,
     "metadata": {},
     "output_type": "execute_result"
    }
   ],
   "source": [
    "x = 1.5\n",
    "a = 2\n",
    "x = (x + a / x) / 2"
   ]
  },
  {
   "cell_type": "code",
   "execution_count": 2,
   "metadata": {},
   "outputs": [
    {
     "data": {
      "text/plain": [
       "1.4142156862745097"
      ]
     },
     "execution_count": 2,
     "metadata": {},
     "output_type": "execute_result"
    }
   ],
   "source": [
    "x = (x + a / x) / 2"
   ]
  },
  {
   "cell_type": "code",
   "execution_count": 3,
   "metadata": {},
   "outputs": [
    {
     "data": {
      "text/plain": [
       "1.4142135623746899"
      ]
     },
     "execution_count": 3,
     "metadata": {},
     "output_type": "execute_result"
    }
   ],
   "source": [
    "x = (x + a / x) / 2"
   ]
  },
  {
   "cell_type": "code",
   "execution_count": 4,
   "metadata": {},
   "outputs": [
    {
     "data": {
      "text/plain": [
       "iterate_sqrt"
      ]
     },
     "execution_count": 4,
     "metadata": {},
     "output_type": "execute_result"
    }
   ],
   "source": [
    "\"\"\"\n",
    "# Iteratively compute the square root of a number.\n",
    "\n",
    "## Parameters\n",
    "a : Float\n",
    "    The number to take the square root of.\n",
    "n : Int\n",
    "    The number of iterations to perform.\n",
    "x : Float\n",
    "    The initial guess.\n",
    "\n",
    "## Returns\n",
    "x : Float\n",
    "    The square root of a.\n",
    "\n",
    "## Examples\n",
    "```julia\n",
    "julia> iterate_sqrt(2, 3, 1.5)\n",
    "1.4142156862745097\n",
    "```\n",
    "\"\"\"\n",
    "function iterate_sqrt(a, n, x)\n",
    "    for i = 1:n\n",
    "        x = (x + a / x) / 2\n",
    "    end\n",
    "\n",
    "    return x\n",
    "end"
   ]
  },
  {
   "cell_type": "code",
   "execution_count": 5,
   "metadata": {},
   "outputs": [
    {
     "data": {
      "text/plain": [
       "-2.220446049250313e-16"
      ]
     },
     "execution_count": 5,
     "metadata": {},
     "output_type": "execute_result"
    }
   ],
   "source": [
    "iterate_sqrt(2, 10, 1) - sqrt(2)"
   ]
  },
  {
   "cell_type": "code",
   "execution_count": 6,
   "metadata": {},
   "outputs": [
    {
     "data": {
      "text/plain": [
       "1.0812053925455987"
      ]
     },
     "execution_count": 6,
     "metadata": {},
     "output_type": "execute_result"
    }
   ],
   "source": [
    "iterate_sqrt(1, 3, 5)"
   ]
  },
  {
   "cell_type": "code",
   "execution_count": 7,
   "metadata": {},
   "outputs": [
    {
     "data": {
      "text/plain": [
       "calculate_errors (generic function with 1 method)"
      ]
     },
     "execution_count": 7,
     "metadata": {},
     "output_type": "execute_result"
    }
   ],
   "source": [
    "\"\"\"\n",
    "# Calculate the errors of an iterative square root function.\n",
    "\n",
    "## Parameters\n",
    "iterate_sqrt_func : Function\n",
    "    The function to calculate the errors for.\n",
    "a : Float\n",
    "    The number to take the square root of.\n",
    "iterations : Array{Int}\n",
    "    The number of iterations to perform.\n",
    "\n",
    "## Returns\n",
    "errors : Array{Float}\n",
    "    The errors of the iterative square root function.\n",
    "\n",
    "## Examples\n",
    "```julia\n",
    "julia> calculate_errors(iterate_sqrt, 2, [1, 2, 3])\n",
    "[0.414214, 0.0828427, 0.000727595]\n",
    "```\n",
    "\"\"\"\n",
    "function calculate_errors(iterate_sqrt_func, a, iterations)\n",
    "    actual_sqrt = sqrt(a)\n",
    "    errors = []\n",
    "\n",
    "    for n in iterations\n",
    "        approx_sqrt = iterate_sqrt_func(a, n, 1)\n",
    "        error = abs(approx_sqrt - actual_sqrt)\n",
    "        push!(errors, error)\n",
    "    end\n",
    "\n",
    "    return errors\n",
    "end"
   ]
  },
  {
   "cell_type": "code",
   "execution_count": 8,
   "metadata": {},
   "outputs": [
    {
     "data": {
      "text/plain": [
       "3-element Vector{Any}:\n",
       " 0.08578643762690485\n",
       " 2.123901414519125e-6\n",
       " 2.220446049250313e-16"
      ]
     },
     "execution_count": 8,
     "metadata": {},
     "output_type": "execute_result"
    }
   ],
   "source": [
    "iterations = [1, 3, 5]\n",
    "\n",
    "errors = calculate_errors(iterate_sqrt, 2, iterations)"
   ]
  },
  {
   "cell_type": "code",
   "execution_count": 9,
   "metadata": {},
   "outputs": [
    {
     "name": "stdout",
     "output_type": "stream",
     "text": [
      "Errors after 1, 3, and 5 iterations: Any[0.08578643762690485, 2.123901414519125e-6, 2.220446049250313e-16]\n"
     ]
    }
   ],
   "source": [
    "println(\"Errors after 1, 3, and 5 iterations: \", errors)"
   ]
  },
  {
   "cell_type": "code",
   "execution_count": 10,
   "metadata": {},
   "outputs": [
    {
     "data": {
      "text/plain": [
       "\u001b[32m\u001b[1mTest Passed\u001b[22m\u001b[39m"
      ]
     },
     "execution_count": 10,
     "metadata": {},
     "output_type": "execute_result"
    }
   ],
   "source": [
    "# Import Test module\n",
    "using Test\n",
    "\n",
    "# Test iterate_sqrt function\n",
    "# Expect that the result of iterate_sqrt is close to the result of sqrt\n",
    "@test iterate_sqrt(2, 10, 1) ≈ sqrt(2)\n",
    "@test iterate_sqrt(3, 10, 1) ≈ sqrt(3)\n",
    "@test iterate_sqrt(4, 10, 1) ≈ sqrt(4)\n",
    "@test iterate_sqrt(5, 10, 1) ≈ sqrt(5)\n",
    "\n",
    "# Test calculate_errors function\n",
    "# Expect that the result of calculate_errors is close to the expected result\n",
    "@test calculate_errors(iterate_sqrt, 2, [1, 3, 5]) ≈ [0.08578643762690485, 2.123901414519125e-6, 2.220446049250313e-16]\n",
    "@test calculate_errors(iterate_sqrt, 3, [1, 3, 5]) ≈ [0.2679491924311228, 9.204957398001312e-5, 0.0]\n",
    "@test calculate_errors(iterate_sqrt, 4, [1, 3, 5]) ≈ [0.5, 0.0006097560975608651, 2.220446049250313e-15]"
   ]
  }
 ],
 "metadata": {
  "kernelspec": {
   "display_name": "Julia 1.9.4",
   "language": "julia",
   "name": "julia-1.9"
  },
  "language_info": {
   "file_extension": ".jl",
   "mimetype": "application/julia",
   "name": "julia",
   "version": "1.9.4"
  }
 },
 "nbformat": 4,
 "nbformat_minor": 2
}

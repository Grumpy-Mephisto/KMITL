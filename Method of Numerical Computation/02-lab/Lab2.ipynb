{
 "cells": [
  {
   "cell_type": "markdown",
   "metadata": {},
   "source": [
    "# Round-off errors\n",
    "\n",
    "When you use `x = 1/49` to compute the reciprocal of 49, you get the fraction 1/49. But if you print `x`, you might be surprised to see\n",
    "\n",
    "```julia\n",
    "julia> x = 1/49\n",
    "0.02040816326530612\n",
    "```\n",
    "\n",
    "and then go on to compute `x * 49` and get\n",
    "\n",
    "```julia\n",
    "julia> x * 49\n",
    "0.9999999999999999\n",
    "```\n",
    "\n",
    "and not 1.0. What is going on?\n",
    "\n",
    "The problem is that floating-point numbers are represented with a fixed number of bits, and there are many numbers that cannot be represented exactly with a fixed number of bits. When you write `1/49`, Julia converts the integer 1 to the floating-point representation with 64 bits, and the integer 49 to the floating-point representation with 64 bits, and then divides the two floating-point numbers. The result is very close to 1/49, but not exact.\n",
    "\n",
    "When you multiply `x` by 49, you get a number that is very close to 1, but not exact, so when you print it, you get `0.9999999999999999`.\n",
    "\n",
    "What is error of precision? It is the difference between the result you get from a floating-point operation and the result you would get if you could compute the operation with real numbers.\n",
    "\n",
    "In this example, the error of precision is about `1e-16`, which is the difference between 1 and the floating-point representation of 1.0.\n"
   ]
  },
  {
   "cell_type": "code",
   "execution_count": 1,
   "metadata": {},
   "outputs": [
    {
     "data": {
      "text/plain": [
       "0.02040816326530612"
      ]
     },
     "execution_count": 1,
     "metadata": {},
     "output_type": "execute_result"
    }
   ],
   "source": [
    "x = 1/49"
   ]
  },
  {
   "cell_type": "code",
   "execution_count": 2,
   "metadata": {},
   "outputs": [
    {
     "data": {
      "text/plain": [
       "0.9999999999999999"
      ]
     },
     "execution_count": 2,
     "metadata": {},
     "output_type": "execute_result"
    }
   ],
   "source": [
    "x * 49"
   ]
  },
  {
   "cell_type": "code",
   "execution_count": 3,
   "metadata": {},
   "outputs": [
    {
     "data": {
      "text/plain": [
       "1.1102230246251565e-16"
      ]
     },
     "execution_count": 3,
     "metadata": {},
     "output_type": "execute_result"
    }
   ],
   "source": [
    "1 - x * 49"
   ]
  },
  {
   "cell_type": "markdown",
   "metadata": {},
   "source": [
    "## Accumulated Error Function\n",
    "\n",
    "The following function computes the accumulated error of a sequence of floating-point numbers:\n",
    "\n",
    "- The function `accumulated_error` takes a sequence of floating-point numbers and computes the accumulated error of the sum.\n",
    "- Inside the function\n",
    "    - `y = similar(x)` creates a new array with the same type and shape as `x`.\n",
    "    - `y[1] = x[1]` copies the first element of `x` to the first element of `y`.\n",
    "    - The `for` loop starts at the second element and adds up the differences between successive elements of `x`.\n",
    "    - The result is an array that contains the accumulated error of the sum of `x`."
   ]
  },
  {
   "cell_type": "code",
   "execution_count": 4,
   "metadata": {},
   "outputs": [
    {
     "data": {
      "text/plain": [
       "accumulated_error (generic function with 1 method)"
      ]
     },
     "execution_count": 4,
     "metadata": {},
     "output_type": "execute_result"
    }
   ],
   "source": [
    "function accumulated_error(x)\n",
    "    y = similar(x)\n",
    "    y[1] = x[1]\n",
    "    for i in 2:length(x)\n",
    "        y[i] = y[i-1] + x[i]\n",
    "    end\n",
    "\n",
    "    return y\n",
    "end"
   ]
  },
  {
   "cell_type": "code",
   "execution_count": 5,
   "metadata": {},
   "outputs": [
    {
     "name": "stdout",
     "output_type": "stream",
     "text": [
      "Input array: [1, 2, 3, 4, 5]\n",
      "Accumulated sum array: [1, 3, 6, 10, 15]\n"
     ]
    }
   ],
   "source": [
    "input_array = [1, 2, 3, 4, 5]\n",
    "\n",
    "result_array = accumulated_error(input_array)\n",
    "\n",
    "println(\"Input array: $input_array\")\n",
    "println(\"Accumulated sum array: $result_array\")"
   ]
  },
  {
   "cell_type": "code",
   "execution_count": 6,
   "metadata": {},
   "outputs": [
    {
     "data": {
      "text/plain": [
       "(1.1920929f-7, 2.220446049250313e-16)"
      ]
     },
     "execution_count": 6,
     "metadata": {},
     "output_type": "execute_result"
    }
   ],
   "source": [
    "eps(Float32), eps(Float64)"
   ]
  },
  {
   "cell_type": "markdown",
   "metadata": {},
   "source": [
    "## Accumulated Error Analysis with Single Precision\n",
    "\n",
    "This Julia code utilizes PyPlot for visualization and defines a function `plot_error_analysis()` to analyze the accumulated error in summing 10^7 random single precision values. Here's a step-by-step explanation:\n",
    "\n",
    "1. **Data Generation**: Generates an array `x` containing 10^7 single precision (Float32) random values uniformly distributed between 0 and 1.\n",
    "\n",
    "2. **Accumulated Error Calculation**:\n",
    "\n",
    "   - `@time y = accumulated_error(x)`: Measures the time and computes the accumulated error using a function called `accumulated_error()` (not shown here).\n",
    "\n",
    "   - `y_exact = accumulated_error(Float64.(x))`: Converts `x` to double precision (Float64) to obtain a more accurate comparison for the accumulated error.\n",
    "\n",
    "   - `err = abs.(y .- y_exact ./ abs.(y_exact))`: Computes the relative error between the single and double precision accumulations.\n",
    "\n",
    "3. **Plotting**:\n",
    "\n",
    "   - Defines `n` to plot every 10th point in the `err` array.\n",
    "\n",
    "   - `loglog(n, err[n])`: Plots the log-log of the error against the number of summands.\n",
    "\n",
    "   - Adds axis labels (`ylabel`, `xlabel`) and a title (`title`) for clarity in the plot.\n",
    "\n",
    "4. **Comparison Line**:\n",
    "\n",
    "   - `loglog([1, length(err)], sqrt.([1, length(err)]) * 1e-7, \"k--\")`: Plots a line proportional to √n for comparison.\n",
    "\n",
    "5. **Text Annotation**:\n",
    "\n",
    "   - `text(1e3, 1e-5, L\"\\sim \\sqrt{n}\", fontsize=16)`: Adds a text annotation displaying the square root relationship at a specified position on the plot.\n",
    "\n",
    "6. **Execution**:\n",
    "   - `plot_error_analysis()`: Calls the function to execute the code and display the plot.\n",
    "\n",
    "This code aims to visualize and analyze the error that arises from summing a large number of single precision random values compared to their double precision counterparts.\n"
   ]
  },
  {
   "cell_type": "code",
   "execution_count": 7,
   "metadata": {},
   "outputs": [
    {
     "name": "stdout",
     "output_type": "stream",
     "text": [
      "  0.104054 seconds (2 allocations: 381.470 MiB, 3.22% gc time)\n"
     ]
    },
    {
     "data": {
      "image/png": "[encoded data removed]",
      "text/plain": [
       "Figure(PyObject <Figure size 640x480 with 1 Axes>)"
      ]
     },
     "metadata": {},
     "output_type": "display_data"
    },
    {
     "data": {
      "text/plain": [
       "PyObject <matplotlib.legend.Legend object at 0x7fda85621310>"
      ]
     },
     "execution_count": 7,
     "metadata": {},
     "output_type": "execute_result"
    }
   ],
   "source": [
    "using PyPlot\n",
    "\n",
    "function plot_error_analysis(size_rand_array = 10^8)\n",
    "    x = rand(Float32, size_rand_array)\n",
    "    @time y = accumulated_error(x)\n",
    "    y_exact = accumulated_error(Float64.(x))\n",
    "    err = abs.(y .- y_exact) ./ abs.(y_exact)\n",
    "\n",
    "    n = 1:10:length(err)\n",
    "    loglog(n, err[n], color=\"C1\", label=\"Relative Error\")\n",
    "    ylabel(\"Relative Error\")\n",
    "    xlabel(\"# Summands\")\n",
    "\n",
    "    loglog([1, length(err)], sqrt.([1, length(err)]) * 1e-7, \"k--\", label=L\"\\sim \\sqrt{n}\")\n",
    "    text(1e3, 1e-5, L\"\\sim \\sqrt{n}\", transform=gca().transData)\n",
    "    title(\"Accumulated error in summing\" * \"\\n\" * \"$size_rand_array random numbers\")\n",
    "\n",
    "    legend()\n",
    "end\n",
    "\n",
    "plot_error_analysis()"
   ]
  },
  {
   "cell_type": "code",
   "execution_count": 16,
   "metadata": {},
   "outputs": [],
   "source": [
    "using BenchmarkTools\n",
    "\n",
    "function sum_accumulated_error(x)\n",
    "    y = accumulated_error(x)\n",
    "    return y[end]\n",
    "end\n",
    "\n",
    "x_1 = rand(Float32, 10^7)\n",
    "x_2 = rand(Float64, 10^7)\n",
    "\n",
    "@btime sum_accumulated_error($x_1)\n",
    "@btime sum_accumulated_error($x_2)"
   ]
  },
  {
   "cell_type": "code",
   "execution_count": 9,
   "metadata": {},
   "outputs": [
    {
     "data": {
      "text/plain": [
       "\u001b[32m\u001b[1mTest Passed\u001b[22m\u001b[39m"
      ]
     },
     "execution_count": 9,
     "metadata": {},
     "output_type": "execute_result"
    }
   ],
   "source": [
    "using Test\n",
    "\n",
    "x_1 = rand(Float32, 10^7)\n",
    "x_2 = rand(Float32, 10^5)\n",
    "x_3 = rand(Float32, 10^3)\n",
    "\n",
    "@test sum_accumulated_error(x_1) ≈ sum(x_1)\n",
    "@test sum_accumulated_error(x_2) ≈ sum(x_2)\n",
    "@test sum_accumulated_error(x_3) ≈ sum(x_3)"
   ]
  }
 ],
 "metadata": {
  "kernelspec": {
   "display_name": "Julia 1.10.0",
   "language": "julia",
   "name": "julia-1.10"
  },
  "language_info": {
   "file_extension": ".jl",
   "mimetype": "application/julia",
   "name": "julia",
   "version": "1.10.0"
  }
 },
 "nbformat": 4,
 "nbformat_minor": 2
}

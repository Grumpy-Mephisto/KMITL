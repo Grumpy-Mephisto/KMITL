{
 "cells": [
  {
   "cell_type": "code",
   "execution_count": null,
   "metadata": {},
   "outputs": [],
   "source": [
    "# Import the CSV File\n",
    "from google.colab import files\n",
    "uploaded = files.upload()"
   ]
  },
  {
   "cell_type": "code",
   "execution_count": null,
   "metadata": {},
   "outputs": [],
   "source": [
    "# Import libraries\n",
    "import pandas as pd\n",
    "import matplotlib.pyplot as plt\n",
    "import seaborn as sns"
   ]
  },
  {
   "cell_type": "code",
   "execution_count": null,
   "metadata": {},
   "outputs": [],
   "source": [
    "# Read the CSV File\n",
    "df = pd.read_csv('Churn_Modelling.csv')"
   ]
  },
  {
   "cell_type": "code",
   "execution_count": null,
   "metadata": {},
   "outputs": [],
   "source": [
    "# Box plot\n",
    "sns.set_style('darkgrid')\n",
    "fig = plt.figure(figsize = (12, 8))\n",
    "box_plot = sns.boxplot(x='Geography', y='Balance', hue='Exited', palette=\"Set1\", data=df)\n",
    "\n",
    "# describe the plot\n",
    "box_plot.set_title('Box Plot of Balance by Geography and Exited')\n",
    "box_plot.set_xlabel('Geography')\n",
    "box_plot.set_ylabel('Balance')"
   ]
  }
 ],
 "metadata": {
  "kernelspec": {
   "display_name": "Python 3.10.5 64-bit",
   "language": "python",
   "name": "python3"
  },
  "language_info": {
   "name": "python",
   "version": "3.10.5"
  },
  "orig_nbformat": 4,
  "vscode": {
   "interpreter": {
    "hash": "788d834d094a3df661c1c5f5dc8e1a19880ffccc81e8cb838d973ca077764621"
   }
  }
 },
 "nbformat": 4,
 "nbformat_minor": 2
}

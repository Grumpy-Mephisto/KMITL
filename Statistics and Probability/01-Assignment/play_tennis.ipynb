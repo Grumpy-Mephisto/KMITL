{
 "cells": [
  {
   "cell_type": "code",
   "execution_count": null,
   "metadata": {},
   "outputs": [],
   "source": [
    "# Import the necessary libraries\n",
    "import numpy as np\n",
    "import pandas as pd\n",
    "from sklearn.preprocessing import LabelEncoder\n",
    "from sklearn.naive_bayes import CategoricalNB\n",
    "from google.colab import files"
   ]
  },
  {
   "cell_type": "code",
   "execution_count": null,
   "metadata": {},
   "outputs": [],
   "source": [
    "# Import the dataset\n",
    "uploaded = files.upload()"
   ]
  },
  {
   "cell_type": "code",
   "execution_count": null,
   "metadata": {},
   "outputs": [],
   "source": [
    "# Add the class to print the text in color\n",
    "class TextColor:\n",
    "    GREEN = '\\033[92m'\n",
    "    RED = '\\033[91m'\n",
    "    END = '\\033[0m'"
   ]
  },
  {
   "cell_type": "code",
   "execution_count": null,
   "metadata": {},
   "outputs": [],
   "source": [
    "# Read the CSV file\n",
    "def ReadCSV(filename):\n",
    "    df = pd.read_csv(filename)\n",
    "    return df"
   ]
  },
  {
   "cell_type": "code",
   "execution_count": null,
   "metadata": {},
   "outputs": [],
   "source": [
    "# Encode the labels\n",
    "def LabelEncode(data, columns):\n",
    "    for i in columns:\n",
    "        lb = LabelEncoder().fit_transform(data[i])\n",
    "        data[i + '_'] = lb"
   ]
  },
  {
   "cell_type": "code",
   "execution_count": null,
   "metadata": {},
   "outputs": [],
   "source": [
    "# Train the model\n",
    "def TrainModel(X, y):\n",
    "    model = CategoricalNB()\n",
    "    model.fit(X, y)\n",
    "    return model"
   ]
  },
  {
   "cell_type": "code",
   "execution_count": null,
   "metadata": {},
   "outputs": [],
   "source": [
    "# Predict the output\n",
    "def Predict(model, new_input):\n",
    "    y_prob_predict = model.predict_proba(new_input)\n",
    "    y_new_predict = model.predict(new_input)\n",
    "    return y_prob_predict, y_new_predict"
   ]
  },
  {
   "cell_type": "code",
   "execution_count": null,
   "metadata": {},
   "outputs": [],
   "source": [
    "# Translate the label\n",
    "def TranslateLabel(y_le, y_new_predict, y_prob_predict):\n",
    "    n = 1\n",
    "    for i in y_new_predict:\n",
    "        if y_le.classes_[i] == 'yes':\n",
    "            print(\n",
    "                f'No {n} => {TextColor.GREEN}{y_le.classes_[i]}{TextColor.END}')\n",
    "            print(\n",
    "                f'Predict Probability: {TextColor.GREEN}{y_prob_predict[n-1][i]}{TextColor.END}, {TextColor.RED}{y_prob_predict[n-1][1-i]}{TextColor.END}')\n",
    "        else:\n",
    "            print(\n",
    "                f'No {n} => {TextColor.RED}{y_le.classes_[i]}{TextColor.END}')\n",
    "            print(\n",
    "                f'Predict Probability: {TextColor.GREEN}{y_prob_predict[n-1][1-i]}{TextColor.END}, {TextColor.RED}{y_prob_predict[n-1][i]}{TextColor.END}')\n",
    "        n = n + 1"
   ]
  },
  {
   "cell_type": "code",
   "execution_count": null,
   "metadata": {},
   "outputs": [],
   "source": [
    "# Main function\n",
    "def main():\n",
    "    df = ReadCSV('playtennis.csv')\n",
    "    X = df.drop(['play'], axis=1)\n",
    "    y = df.play\n",
    "    f_columns = ['outlook', 'temp', 'humidity', 'windy']\n",
    "    LabelEncode(X, f_columns)\n",
    "    y_le = LabelEncoder()\n",
    "    y1 = y_le.fit_transform(y)\n",
    "    X1 = X[['outlook_', 'temp_', 'humidity_', 'windy_']]\n",
    "    model = TrainModel(X1, y1)\n",
    "    new_input = [[2, 0, 1, 1], [1, 2, 1, 0]]\n",
    "    y_prob_predict, y_new_predict = Predict(model, new_input)\n",
    "    TranslateLabel(y_le, y_new_predict, y_prob_predict)"
   ]
  },
  {
   "cell_type": "code",
   "execution_count": null,
   "metadata": {},
   "outputs": [],
   "source": [
    "#  Run the main function\n",
    "if __name__ == '__main__':\n",
    "    main()"
   ]
  }
 ],
 "metadata": {
  "kernelspec": {
   "display_name": "Python 3.10.5 64-bit",
   "language": "python",
   "name": "python3"
  },
  "language_info": {
   "name": "python",
   "version": "3.10.5"
  },
  "orig_nbformat": 4,
  "vscode": {
   "interpreter": {
    "hash": "788d834d094a3df661c1c5f5dc8e1a19880ffccc81e8cb838d973ca077764621"
   }
  }
 },
 "nbformat": 4,
 "nbformat_minor": 2
}

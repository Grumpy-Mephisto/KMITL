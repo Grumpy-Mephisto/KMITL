{
 "cells": [
  {
   "cell_type": "code",
   "execution_count": null,
   "metadata": {},
   "outputs": [],
   "source": [
    "import pandas as pd\n",
    "from sklearn.linear_model import LinearRegression\n",
    "from sklearn.metrics import mean_squared_error, mean_absolute_error, r2_score"
   ]
  },
  {
   "cell_type": "code",
   "execution_count": null,
   "metadata": {},
   "outputs": [],
   "source": [
    "from google.colab import files\n",
    "uploaded = files.upload()"
   ]
  },
  {
   "cell_type": "code",
   "execution_count": null,
   "metadata": {},
   "outputs": [],
   "source": [
    "def ReadData(dataset):\n",
    "    df = pd.read_csv(dataset)\n",
    "    return df"
   ]
  },
  {
   "cell_type": "code",
   "execution_count": null,
   "metadata": {},
   "outputs": [],
   "source": [
    "def DataTransform(df):\n",
    "    X = df[['Age', 'Weight_pounds']]\n",
    "    y = df['Blood_pressure']\n",
    "    return X, y"
   ]
  },
  {
   "cell_type": "code",
   "execution_count": null,
   "metadata": {},
   "outputs": [],
   "source": [
    "def LinearRegressionModel(X, y):\n",
    "    model = LinearRegression()\n",
    "    model.fit(X, y)\n",
    "    return model"
   ]
  },
  {
   "cell_type": "code",
   "execution_count": null,
   "metadata": {},
   "outputs": [],
   "source": [
    "def ViewCoefficient(model):\n",
    "    print(\"===== View Coefficient =====\")\n",
    "    print(f\"Intercept: {model.intercept_}\")\n",
    "    print(f\"Coefficient: {model.coef_}\")"
   ]
  },
  {
   "cell_type": "code",
   "execution_count": null,
   "metadata": {},
   "outputs": [],
   "source": [
    "def Equation(model):\n",
    "    print(\"===== Equation =====\")\n",
    "    print(f\"Blood_pressure = {round(model.intercept_, 3)} + {round(model.coef_[0], 3)} * Age + {round(model.coef_[1], 3)} * Weight_pounds\")"
   ]
  },
  {
   "cell_type": "code",
   "execution_count": null,
   "metadata": {},
   "outputs": [],
   "source": [
    "def Predict(model, Age, Weight_pounds):\n",
    "    print(\"===== Predict =====\")\n",
    "    y_pred = model.predict([[Age, Weight_pounds]])\n",
    "    print(f\"Blood_pressure = {round(y_pred[0], 2)}\")"
   ]
  },
  {
   "cell_type": "code",
   "execution_count": null,
   "metadata": {},
   "outputs": [],
   "source": [
    "def ModelEvaluation(model, X, y):\n",
    "    y_pred = model.predict(X)\n",
    "    print(\"===== Model Evaluation =====\")\n",
    "    y_test = pd.DataFrame({'Actual': y, 'Predicted': y_pred})\n",
    "    print(y_test)\n",
    "    print(f'R2: {round(r2_score(y, y_pred), 3)}')\n",
    "    print(f'MAE: {round(mean_absolute_error(y, y_pred), 3)}')\n",
    "    print(f'MSE: {round(mean_squared_error(y, y_pred), 3)}')"
   ]
  },
  {
   "cell_type": "code",
   "execution_count": null,
   "metadata": {},
   "outputs": [],
   "source": [
    "df = ReadData('BloodPressure.csv')\n",
    "X, y = DataTransform(df)\n",
    "model = LinearRegressionModel(X, y)\n",
    "ViewCoefficient(model)\n",
    "Equation(model)\n",
    "Predict(model, 57, 200)\n",
    "ModelEvaluation(model, X, y)"
   ]
  }
 ],
 "metadata": {
  "kernelspec": {
   "display_name": "Python 3.10.8 64-bit",
   "language": "python",
   "name": "python3"
  },
  "language_info": {
   "name": "python",
   "version": "3.10.8"
  },
  "orig_nbformat": 4,
  "vscode": {
   "interpreter": {
    "hash": "788d834d094a3df661c1c5f5dc8e1a19880ffccc81e8cb838d973ca077764621"
   }
  }
 },
 "nbformat": 4,
 "nbformat_minor": 2
}

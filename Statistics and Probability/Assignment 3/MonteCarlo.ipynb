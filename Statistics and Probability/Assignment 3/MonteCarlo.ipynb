{
 "cells": [
  {
   "cell_type": "code",
   "execution_count": null,
   "metadata": {},
   "outputs": [],
   "source": [
    "import random\n",
    "import math\n",
    "import pandas as pd\n",
    "import seaborn as sns\n",
    "import matplotlib.pyplot as plt"
   ]
  },
  {
   "cell_type": "code",
   "execution_count": 2,
   "metadata": {},
   "outputs": [],
   "source": [
    "r = 2.0\n",
    "N = 5000\n",
    "d = {\"Trials\": [], \"Pi\": []}"
   ]
  },
  {
   "cell_type": "code",
   "execution_count": null,
   "metadata": {},
   "outputs": [],
   "source": [
    "for S in range(1, N):\n",
    "    circle_p = 0\n",
    "    for i in range(S):\n",
    "        x = random.uniform(-r, r)\n",
    "        y = random.uniform(-r, r)\n",
    "\n",
    "        x_2 = x**2\n",
    "        y_2 = y**2\n",
    "\n",
    "        if math.sqrt(x_2 + y_2) <= r:\n",
    "            circle_p += 1\n",
    "\n",
    "    d[\"Trials\"].append(S)\n",
    "    d[\"Pi\"].append(4 * circle_p / S)"
   ]
  },
  {
   "cell_type": "code",
   "execution_count": null,
   "metadata": {},
   "outputs": [],
   "source": [
    "df = pd.DataFrame(d)\n",
    "plt.figure(figsize=(10, 7))\n",
    "sns.set_style(\"darkgrid\")"
   ]
  },
  {
   "cell_type": "code",
   "execution_count": null,
   "metadata": {},
   "outputs": [],
   "source": [
    "# Scatter Plot\n",
    "scatter = sns.scatterplot(x=\"Trials\", y=\"Pi\", s=30, marker=\"o\", data=df)\n",
    "scatter.set(title='Monte Carlo Simulation to Estimate Value of Pi', xlabel=\"Number of Trials\", ylabel=\"Value of Pi\")\n",
    "plt.axhline(y=3.14, color='r', linestyle='-')\n",
    "plt.show()"
   ]
  },
  {
   "cell_type": "code",
   "execution_count": null,
   "metadata": {},
   "outputs": [],
   "source": [
    "# Histogram\n",
    "histogram = sns.histplot(data=df, x=\"Pi\", color=\"#003\", stat=\"density\")\n",
    "histogram.set(title='Value of Pi', xlabel=\"Value of Pi\", ylabel=\"Count\")\n",
    "plt.show()"
   ]
  },
  {
   "cell_type": "code",
   "execution_count": null,
   "metadata": {},
   "outputs": [],
   "source": [
    "# Pi value\n",
    "df['Pi'].mean()"
   ]
  }
 ],
 "metadata": {
  "kernelspec": {
   "display_name": "Python 3.10.8 64-bit",
   "language": "python",
   "name": "python3"
  },
  "language_info": {
   "codemirror_mode": {
    "name": "ipython",
    "version": 3
   },
   "file_extension": ".py",
   "mimetype": "text/x-python",
   "name": "python",
   "nbconvert_exporter": "python",
   "pygments_lexer": "ipython3",
   "version": "3.10.8"
  },
  "orig_nbformat": 4,
  "vscode": {
   "interpreter": {
    "hash": "788d834d094a3df661c1c5f5dc8e1a19880ffccc81e8cb838d973ca077764621"
   }
  }
 },
 "nbformat": 4,
 "nbformat_minor": 2
}

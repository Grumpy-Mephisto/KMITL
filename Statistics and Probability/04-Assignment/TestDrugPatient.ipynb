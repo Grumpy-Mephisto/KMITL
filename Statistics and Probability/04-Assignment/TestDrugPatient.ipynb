{
 "cells": [
  {
   "cell_type": "code",
   "execution_count": null,
   "metadata": {},
   "outputs": [],
   "source": [
    "from google.colab import files\n",
    "uploaded = files.upload()"
   ]
  },
  {
   "cell_type": "code",
   "execution_count": null,
   "metadata": {},
   "outputs": [],
   "source": [
    "# Importing the libraries\n",
    "import pandas as pd\n",
    "import matplotlib.pyplot as plt\n",
    "import numpy as np\n",
    "import scipy.stats as stats"
   ]
  },
  {
   "cell_type": "code",
   "execution_count": null,
   "metadata": {},
   "outputs": [],
   "source": [
    "# Don't forget to run this cell ⚠️\n",
    "α = 0.05"
   ]
  },
  {
   "cell_type": "code",
   "execution_count": null,
   "metadata": {},
   "outputs": [],
   "source": [
    "def ReadData(dataset):\n",
    "    dataset = pd.read_csv(dataset)\n",
    "    return dataset"
   ]
  },
  {
   "cell_type": "code",
   "execution_count": null,
   "metadata": {},
   "outputs": [],
   "source": [
    "class Male:\n",
    "    def __init__(self, dataset):\n",
    "        self.dataset = dataset.loc[dataset['sex'] == 'Male']\n",
    "\n",
    "    def Mean_bp(self):\n",
    "        return self.dataset[['bp_before', 'bp_after']].mean()\n",
    "\n",
    "    def T_test(self):\n",
    "        return stats.ttest_rel(self.dataset['bp_before'], self.dataset['bp_after'])\n",
    "\n",
    "    def Conclusion_Hypothesis(self):\n",
    "        reject = ['Reject Null Hypothesis ❌',\n",
    "                  'The drug is effective for male patient 😁']\n",
    "        accept = ['Accept Null Hypothesis ✅',\n",
    "                  'The drug is not effective for male patient ☹️']\n",
    "        if self.T_test()[1] < α:\n",
    "            return reject\n",
    "        else:\n",
    "            return accept"
   ]
  },
  {
   "cell_type": "code",
   "execution_count": null,
   "metadata": {},
   "outputs": [],
   "source": [
    "class Female:\n",
    "    def __init__(self, dataset):\n",
    "        self.dataset = dataset.loc[dataset['sex'] == 'Female']\n",
    "\n",
    "    def Mean_bp(self):\n",
    "        return self.dataset[['bp_before', 'bp_after']].mean()\n",
    "\n",
    "    def T_test(self):\n",
    "        return stats.ttest_rel(self.dataset['bp_before'], self.dataset['bp_after'])\n",
    "\n",
    "    def Conclusion_Hypothesis(self):\n",
    "        reject = ['Reject Null Hypothesis ❌',\n",
    "                  'The drug is effective for female patient 😁']\n",
    "        accept = ['Accept Null Hypothesis ✅',\n",
    "                  'The drug is not effective for female patient ☹️']\n",
    "        if self.T_test()[1] < α:\n",
    "            return reject\n",
    "        else:\n",
    "            return accept"
   ]
  },
  {
   "cell_type": "code",
   "execution_count": null,
   "metadata": {},
   "outputs": [],
   "source": [
    "df = ReadData('BloodPressure.csv')\n",
    "male_data = Male(dataset=df)\n",
    "female_data = Female(dataset=df)"
   ]
  },
  {
   "cell_type": "code",
   "execution_count": null,
   "metadata": {},
   "outputs": [],
   "source": [
    "# Male\n",
    "print(\"RESULT FOR MALE PATIENT 🚹\")\n",
    "male_bp = male_data.Mean_bp()\n",
    "male_t_test = male_data.T_test()\n",
    "male_conc = male_data.Conclusion_Hypothesis()\n",
    "print(f'Mean BP Before = {male_bp[0].round(2)} and After Treatment = {male_bp[1].round(2)}')\n",
    "print(f'T-stat = {male_t_test[0].round(4)}\\nP-value = {male_t_test[1].round(4)}')\n",
    "print(f'Hypothesis: {male_conc[0]}')\n",
    "print(f'Conclusion: {male_conc[1]}')"
   ]
  },
  {
   "cell_type": "code",
   "execution_count": null,
   "metadata": {},
   "outputs": [],
   "source": [
    "# Female\n",
    "print(\"RESULT FOR FEMALE PATIENT 🚺\")\n",
    "female_bp = female_data.Mean_bp()\n",
    "female_t_test = female_data.T_test()\n",
    "female_conc = female_data.Conclusion_Hypothesis()\n",
    "print(f'Mean BP Before = {female_bp[0].round(2)} and After Treatment = {female_bp[1].round(2)}')\n",
    "print(f'T-stat = {female_t_test[0].round(4)}\\nP-value = {female_t_test[1].round(4)}')\n",
    "print(f'Hypothesis: {female_conc[0]}')\n",
    "print(f'Conclusion: {female_conc[1]}')"
   ]
  }
 ],
 "metadata": {
  "kernelspec": {
   "display_name": "Python 3.10.8 64-bit",
   "language": "python",
   "name": "python3"
  },
  "language_info": {
   "name": "python",
   "version": "3.10.8"
  },
  "orig_nbformat": 4,
  "vscode": {
   "interpreter": {
    "hash": "788d834d094a3df661c1c5f5dc8e1a19880ffccc81e8cb838d973ca077764621"
   }
  }
 },
 "nbformat": 4,
 "nbformat_minor": 2
}

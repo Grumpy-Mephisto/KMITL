# Import Test module
using Test

# Test iterate_sqrt function
@test iterate_sqrt(2, 10, 1) ≈ sqrt(2)
@test iterate_sqrt(3, 10, 1) ≈ sqrt(3)
@test iterate_sqrt(4, 10, 1) ≈ sqrt(4)
@test iterate_sqrt(5, 10, 1) ≈ sqrt(5)

# Test calculate_errors function
@test calculate_errors(iterate_sqrt, 2, [1, 3, 5]) ≈ [0.08578643762690485, 2.123901414519125e-6, 2.220446049250313e-16]
@test calculate_errors(iterate_sqrt, 3, [1, 3, 5]) ≈ [0.2320794415, 0.0000021239, 0.0000000000222044]
@test calculate_errors(iterate_sqrt, 4, [1, 3, 5]) ≈ [1.0, 0.0, 0.0]
@test calculate_errors(iterate_sqrt, 5, [1, 3, 5]) ≈ [1.4641016151, 0.0000021239, 0.0000000000222044]

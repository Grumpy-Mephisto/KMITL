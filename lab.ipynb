import math
import unittest

def iterate_sqrt(number, iterations, guess):
    for _ in range(iterations):
        guess = (guess + number / guess) / 2
    return guess

def calculate_errors(sqrt_function, number, iterations):
    errors = []
    for iteration in iterations:
        approximation = sqrt_function(number, iteration, 1)
        error = abs(approximation - math.sqrt(number))
        errors.append(error)
    return errors

class TestSqrtFunctions(unittest.TestCase):
    def test_iterate_sqrt(self):
        self.assertAlmostEqual(iterate_sqrt(2, 10, 1), math.sqrt(2), places=7)
        self.assertAlmostEqual(iterate_sqrt(3, 10, 1), math.sqrt(3), places=7)
        self.assertAlmostEqual(iterate_sqrt(4, 10, 1), math.sqrt(4), places=7)
        self.assertAlmostEqual(iterate_sqrt(5, 10, 1), math.sqrt(5), places=7)

    def test_calculate_errors(self):
        self.assertAlmostEqual(calculate_errors(iterate_sqrt, 2, [1, 3, 5]), [0.08578643762690485, 2.123901414519125e-6, 2.220446049250313e-16], places=7)
        self.assertAlmostEqual(calculate_errors(iterate_sqrt, 3, [1, 3, 5]), [0.2320794415, 0.0000021239, 0.0000000000222044], places=7)
        self.assertAlmostEqual(calculate_errors(iterate_sqrt, 4, [1, 3, 5]), [1.0, 0.0, 0.0], places=7)
        self.assertAlmostEqual(calculate_errors(iterate_sqrt, 5, [1, 3, 5]), [1.4641016151, 0.0000021239, 0.0000000000222044], places=7)

if __name__ == "__main__":
    unittest.main()

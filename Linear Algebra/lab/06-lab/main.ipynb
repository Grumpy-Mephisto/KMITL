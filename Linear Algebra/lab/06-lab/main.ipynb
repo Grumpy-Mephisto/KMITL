{
 "cells": [
  {
   "cell_type": "code",
   "execution_count": 1,
   "metadata": {},
   "outputs": [
    {
     "name": "stdout",
     "output_type": "stream",
     "text": [
      "Author by PunGrumpy (https://github.com/PunGrumpy)\n",
      "I'll install numpy for you. Please wait a moment.\n",
      "If you want to install other packages, please use %pip install <package_name>\n",
      "Collecting numpy\n",
      "  Obtaining dependency information for numpy from https://files.pythonhosted.org/packages/c4/36/161e2f8110f8c49e59f6107bd6da4257d30aff9f06373d0471811f73dcc5/numpy-1.26.0-cp311-cp311-manylinux_2_17_x86_64.manylinux2014_x86_64.whl.metadata\n",
      "  Using cached numpy-1.26.0-cp311-cp311-manylinux_2_17_x86_64.manylinux2014_x86_64.whl.metadata (58 kB)\n",
      "Using cached numpy-1.26.0-cp311-cp311-manylinux_2_17_x86_64.manylinux2014_x86_64.whl (18.2 MB)\n",
      "Installing collected packages: numpy\n",
      "Successfully installed numpy-1.26.0\n",
      "Note: you may need to restart the kernel to use updated packages.\n"
     ]
    }
   ],
   "source": [
    "!echo \"Author by PunGrumpy (https://github.com/PunGrumpy)\"\n",
    "!echo \"I'll install numpy for you. Please wait a moment.\"\n",
    "!echo \"If you want to install other packages, please use %pip install <package_name>\"\n",
    "%pip install numpy"
   ]
  },
  {
   "cell_type": "code",
   "execution_count": 2,
   "metadata": {},
   "outputs": [],
   "source": [
    "import numpy as np"
   ]
  },
  {
   "cell_type": "code",
   "execution_count": 3,
   "metadata": {},
   "outputs": [],
   "source": [
    "def add_vectors(u, v):\n",
    "    return np.add(u, v)"
   ]
  },
  {
   "cell_type": "code",
   "execution_count": 4,
   "metadata": {},
   "outputs": [],
   "source": [
    "def cross_product(u, v):\n",
    "    return np.cross(u, v)"
   ]
  },
  {
   "cell_type": "code",
   "execution_count": 5,
   "metadata": {},
   "outputs": [],
   "source": [
    "def dot_product(u, v):\n",
    "    return np.dot(u, v)"
   ]
  },
  {
   "cell_type": "code",
   "execution_count": 6,
   "metadata": {},
   "outputs": [],
   "source": [
    "def subtract_vectors(u, v):\n",
    "    return np.subtract(u, v)"
   ]
  },
  {
   "cell_type": "code",
   "execution_count": 7,
   "metadata": {},
   "outputs": [],
   "source": [
    "def multiply_vector_by_scalar(u, s):\n",
    "    return np.multiply(u, s)"
   ]
  },
  {
   "cell_type": "code",
   "execution_count": 8,
   "metadata": {},
   "outputs": [],
   "source": [
    "def divide_vector_by_scalar(u, s):\n",
    "    return np.divide(u, s)"
   ]
  },
  {
   "cell_type": "code",
   "execution_count": 9,
   "metadata": {},
   "outputs": [],
   "source": [
    "def vector_length(u):\n",
    "    # return np.linalg.norm(u) # Another way to do it\n",
    "    return np.sqrt(dot_product(u, u))"
   ]
  },
  {
   "cell_type": "code",
   "execution_count": 10,
   "metadata": {},
   "outputs": [],
   "source": [
    "u = np.array([2, -5, 7])\n",
    "v = np.array([-1, 4, -3])\n",
    "w = np.array([3, 2, -6])"
   ]
  },
  {
   "cell_type": "code",
   "execution_count": 11,
   "metadata": {},
   "outputs": [
    {
     "name": "stdout",
     "output_type": "stream",
     "text": [
      "a = u + v =  [ 1 -1  4]\n",
      "b = u * v =  [ -2 -20 -21]\n",
      "c = u • v =  -43\n",
      "d = u x v =  [-13  -1   3]\n",
      "e = (u + v) • u =  35\n",
      "f = (u - v) x v =  [-13  -1   3]\n",
      "g = (v - u) / sqr(u • u) =  [-0.03846154  0.11538462 -0.12820513]\n",
      "h = ((u • v) / (v • v)) * w =  [-4.96153846 -3.30769231  9.92307692]\n"
     ]
    }
   ],
   "source": [
    "# a = u + v\n",
    "# b = u * v\n",
    "# c = u • v\n",
    "# d = u x v\n",
    "# e = (u + v) • u\n",
    "# f = (u - v) x v\n",
    "# g = (v - u) / sqr(u • u)\n",
    "# h = ((u • v) / (v • v)) * w\n",
    "\n",
    "print(\"a = u + v = \", add_vectors(u, v))\n",
    "print(\"b = u * v = \", multiply_vector_by_scalar(u, v))\n",
    "print(\"c = u • v = \", dot_product(u, v))\n",
    "print(\"d = u x v = \", cross_product(u, v))\n",
    "print(\"e = (u + v) • u = \", dot_product(add_vectors(u, v), u))\n",
    "print(\"f = (u - v) x v = \", cross_product(subtract_vectors(u, v), v))\n",
    "print(\"g = (v - u) / sqr(u • u) = \", divide_vector_by_scalar(subtract_vectors(v, u), dot_product(u, u)))\n",
    "print(\"h = ((u • v) / (v • v)) * w = \", multiply_vector_by_scalar(divide_vector_by_scalar(dot_product(u, v), dot_product(v, v)), w))"
   ]
  }
 ],
 "metadata": {
  "kernelspec": {
   "display_name": "Python 3",
   "language": "python",
   "name": "python3"
  },
  "language_info": {
   "codemirror_mode": {
    "name": "ipython",
    "version": 3
   },
   "file_extension": ".py",
   "mimetype": "text/x-python",
   "name": "python",
   "nbconvert_exporter": "python",
   "pygments_lexer": "ipython3",
   "version": "3.11.5"
  },
  "orig_nbformat": 4
 },
 "nbformat": 4,
 "nbformat_minor": 2
}

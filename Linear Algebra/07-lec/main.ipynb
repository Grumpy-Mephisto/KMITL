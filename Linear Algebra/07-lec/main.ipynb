{
 "cells": [
  {
   "cell_type": "code",
   "execution_count": 1,
   "metadata": {},
   "outputs": [
    {
     "name": "stdout",
     "output_type": "stream",
     "text": [
      "Requirement already satisfied: numpy in ./.venv/lib/python3.11/site-packages (1.26.0)\n",
      "Note: you may need to restart the kernel to use updated packages.\n",
      "Requirement already satisfied: sympy in ./.venv/lib/python3.11/site-packages (1.12)\n",
      "Requirement already satisfied: mpmath>=0.19 in ./.venv/lib/python3.11/site-packages (from sympy) (1.3.0)\n",
      "Note: you may need to restart the kernel to use updated packages.\n",
      "Requirement already satisfied: matplotlib in ./.venv/lib/python3.11/site-packages (3.8.0)\n",
      "Requirement already satisfied: contourpy>=1.0.1 in ./.venv/lib/python3.11/site-packages (from matplotlib) (1.1.1)\n",
      "Requirement already satisfied: cycler>=0.10 in ./.venv/lib/python3.11/site-packages (from matplotlib) (0.11.0)\n",
      "Requirement already satisfied: fonttools>=4.22.0 in ./.venv/lib/python3.11/site-packages (from matplotlib) (4.42.1)\n",
      "Requirement already satisfied: kiwisolver>=1.0.1 in ./.venv/lib/python3.11/site-packages (from matplotlib) (1.4.5)\n",
      "Requirement already satisfied: numpy<2,>=1.21 in ./.venv/lib/python3.11/site-packages (from matplotlib) (1.26.0)\n",
      "Requirement already satisfied: packaging>=20.0 in ./.venv/lib/python3.11/site-packages (from matplotlib) (23.1)\n",
      "Requirement already satisfied: pillow>=6.2.0 in ./.venv/lib/python3.11/site-packages (from matplotlib) (10.0.1)\n",
      "Requirement already satisfied: pyparsing>=2.3.1 in ./.venv/lib/python3.11/site-packages (from matplotlib) (3.1.1)\n",
      "Requirement already satisfied: python-dateutil>=2.7 in ./.venv/lib/python3.11/site-packages (from matplotlib) (2.8.2)\n",
      "Requirement already satisfied: six>=1.5 in ./.venv/lib/python3.11/site-packages (from python-dateutil>=2.7->matplotlib) (1.16.0)\n",
      "Note: you may need to restart the kernel to use updated packages.\n"
     ]
    }
   ],
   "source": [
    "%pip install numpy\n",
    "%pip install sympy\n",
    "%pip install matplotlib"
   ]
  },
  {
   "cell_type": "code",
   "execution_count": 2,
   "metadata": {},
   "outputs": [],
   "source": [
    "import numpy as np"
   ]
  },
  {
   "cell_type": "code",
   "execution_count": 3,
   "metadata": {},
   "outputs": [
    {
     "name": "stdout",
     "output_type": "stream",
     "text": [
      "[[ 8  8  3]\n",
      " [11 13  4]\n",
      " [16 10  7]]\n",
      "9.999999999999993\n"
     ]
    }
   ],
   "source": [
    "# 3x3 matrix\n",
    "A = np.array([[1, 2, 1], [2, 3, 1], [1, 2, 3]])\n",
    "B = np.array([[2, 3, 1], [1, 2, 0], [4, 1, 2]])\n",
    "A_Matrix = np.matrix(A)\n",
    "B_Matrix = np.matrix(B)\n",
    "C_Matrix = A_Matrix * B_Matrix\n",
    "Det_C = np.linalg.det(C_Matrix)\n",
    "print(C_Matrix)\n",
    "print(Det_C)"
   ]
  },
  {
   "cell_type": "code",
   "execution_count": 4,
   "metadata": {},
   "outputs": [
    {
     "name": "stdout",
     "output_type": "stream",
     "text": [
      "[[ 4.61538462e-01 -7.69230769e-02 -6.15384615e-01  2.30769231e-01]\n",
      " [-8.33333333e-01  4.93432455e-17  1.00000000e+00  1.66666667e-01]\n",
      " [ 1.15384615e-01  2.30769231e-01 -1.53846154e-01 -1.92307692e-01]\n",
      " [ 4.23076923e-01 -1.53846154e-01 -2.30769231e-01 -3.84615385e-02]]\n",
      "78.0\n"
     ]
    }
   ],
   "source": [
    "# 4x4 matrix\n",
    "A = np.array([[2,3,4,5], [3,3,6,1], [1,3,3,4], [4,3,2,1]])\n",
    "A_Matrix = np.matrix(A)\n",
    "A_Det = np.linalg.det(A_Matrix)\n",
    "A_Inverse = np.linalg.inv(A_Matrix)\n",
    "print(A_Inverse)\n",
    "print(A_Det)"
   ]
  },
  {
   "cell_type": "code",
   "execution_count": 5,
   "metadata": {},
   "outputs": [
    {
     "name": "stdout",
     "output_type": "stream",
     "text": [
      "[ 3. -2.]\n",
      "[ 3.  2. -1.]\n"
     ]
    }
   ],
   "source": [
    "# Matrix equation \n",
    "# x^2 - x - 6 = 0\n",
    "x = np.roots([1, -1, -6])\n",
    "print(x)\n",
    "\n",
    "# x^3 - 4x^2 + x + 6 = 0\n",
    "x = np.roots([1, -4, 1, 6])\n",
    "print(x)"
   ]
  },
  {
   "cell_type": "code",
   "execution_count": 6,
   "metadata": {},
   "outputs": [
    {
     "name": "stdout",
     "output_type": "stream",
     "text": [
      "[2. 3.]\n",
      "{x: 2, y: 3}\n"
     ]
    }
   ],
   "source": [
    "# 2x + 3y = 13\n",
    "# 4x - 2y = 2\n",
    "\n",
    "# Method 1\n",
    "A = np.array([[2, 3], [4, -2]])\n",
    "B = np.array([13, 2])\n",
    "X = np.linalg.solve(A, B)\n",
    "print(X)\n",
    "\n",
    "# Method 2\n",
    "from sympy import Eq, solve, symbols\n",
    "from sympy.solvers import solve\n",
    "x, y = symbols('x y')\n",
    "eq1 = Eq(2*x + 3*y, 13)\n",
    "eq2 = Eq(4*x - 2*y, 2)\n",
    "sol = solve((eq1, eq2), (x, y))\n",
    "print(sol)"
   ]
  },
  {
   "cell_type": "code",
   "execution_count": 7,
   "metadata": {},
   "outputs": [
    {
     "name": "stdout",
     "output_type": "stream",
     "text": [
      "{x: 1, y: -4, z: 6}\n"
     ]
    }
   ],
   "source": [
    "# 3x + 2y + z = 1\n",
    "# 2x + 3y + 2z = 2\n",
    "# x + y + z = 3\n",
    "\n",
    "x, y, z = symbols('x y z')\n",
    "eq1 = Eq(3*x + 2*y + z, 1)\n",
    "eq2 = Eq(2*x + 3*y + 2*z, 2)\n",
    "eq3 = Eq(x + y + z, 3)\n",
    "sol = solve((eq1, eq2, eq3), (x, y, z))\n",
    "print(sol)"
   ]
  },
  {
   "cell_type": "code",
   "execution_count": 8,
   "metadata": {},
   "outputs": [
    {
     "name": "stdout",
     "output_type": "stream",
     "text": [
      "{w: -10/13, x: 3/2, y: -5/26, z: -1/26}\n"
     ]
    }
   ],
   "source": [
    "# 2w + 3x + 4y + 5z = 2\n",
    "# 3w + 3x + 6y + z = 1\n",
    "# 1w + 3x + 3y + 4z = 3\n",
    "# 4w + 3x + 2y + 1z = 1\n",
    "\n",
    "w, x, y, z = symbols('w x y z')\n",
    "eq1 = Eq(2*w + 3*x + 4*y + 5*z, 2)\n",
    "eq2 = Eq(3*w + 3*x + 6*y + z, 1)\n",
    "eq3 = Eq(w + 3*x + 3*y + 4*z, 3)\n",
    "eq4 = Eq(4*w + 3*x + 2*y + z, 1)\n",
    "sol = solve((eq1, eq2, eq3, eq4), (w, x, y, z))\n",
    "print(sol)"
   ]
  },
  {
   "cell_type": "code",
   "execution_count": 9,
   "metadata": {},
   "outputs": [
    {
     "name": "stdout",
     "output_type": "stream",
     "text": [
      "[1. 2. 3.]\n",
      "{x1: 1, x2: 2, x3: 3}\n"
     ]
    }
   ],
   "source": [
    "# AX = B\n",
    "# A = [[5, -4, 2], [3, 2, -1], [1, -2, 3]]\n",
    "# X = [x1, x2, x3]\n",
    "# B = [3, 4, 6]\n",
    "\n",
    "# Method 1\n",
    "A = np.array([[5, -4, 2], [3, 2, -1], [1, -2, 3]])\n",
    "B = np.array([3, 4, 6])\n",
    "X = np.linalg.solve(A, B)\n",
    "print(X)\n",
    "\n",
    "# Method 2\n",
    "x1, x2, x3 = symbols('x1 x2 x3')\n",
    "eq1 = Eq(5*x1 - 4*x2 + 2*x3, 3)\n",
    "eq2 = Eq(3*x1 + 2*x2 - x3, 4)\n",
    "eq3 = Eq(x1 - 2*x2 + 3*x3, 6)\n",
    "sol = solve((eq1, eq2, eq3), (x1, x2, x3))\n",
    "print(sol)"
   ]
  },
  {
   "cell_type": "code",
   "execution_count": 10,
   "metadata": {},
   "outputs": [
    {
     "data": {
      "image/png": "[encoded data removed]",
      "text/plain": [
       "<Figure size 640x480 with 1 Axes>"
      ]
     },
     "metadata": {},
     "output_type": "display_data"
    }
   ],
   "source": [
    "from matplotlib import pyplot as plt\n",
    "x = [1,2,3,4,5]\n",
    "y = [10,20,25,70,15]\n",
    "plt.plot(x, y)\n",
    "plt.xlabel('x - axis')\n",
    "plt.ylabel('y - axis')\n",
    "plt.show()\n",
    "plt.close()"
   ]
  },
  {
   "cell_type": "code",
   "execution_count": 11,
   "metadata": {},
   "outputs": [
    {
     "data": {
      "image/png": "[encoded data removed]",
      "text/plain": [
       "<Figure size 640x480 with 1 Axes>"
      ]
     },
     "metadata": {},
     "output_type": "display_data"
    }
   ],
   "source": [
    "from matplotlib.pyplot import figure\n",
    "v = [10, 15, 20, 30, 40, 50, 60, 70, 80]\n",
    "s = [5, 9, 15, 18, 22, 30, 45, 38, 43]\n",
    "coefficients = np.polyfit(v, s, 2)\n",
    "polynomial = np.poly1d(coefficients)\n",
    "ys = polynomial(v) # ys คือค่า y ที่ได้จากการประมาณค่า\n",
    "plt.plot(v, s, 'o')\n",
    "plt.plot(v, ys, 'r')\n",
    "plt.xlabel('v - axis')\n",
    "plt.ylabel('s - axis')\n",
    "plt.show()"
   ]
  }
 ],
 "metadata": {
  "kernelspec": {
   "display_name": ".venv",
   "language": "python",
   "name": "python3"
  },
  "language_info": {
   "codemirror_mode": {
    "name": "ipython",
    "version": 3
   },
   "file_extension": ".py",
   "mimetype": "text/x-python",
   "name": "python",
   "nbconvert_exporter": "python",
   "pygments_lexer": "ipython3",
   "version": "3.11.5"
  },
  "orig_nbformat": 4
 },
 "nbformat": 4,
 "nbformat_minor": 2
}
